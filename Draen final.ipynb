{
 "cells": [
  {
   "cell_type": "markdown",
   "metadata": {},
   "source": [
    "<center><img src=\"logo.png\" alt=\"Header\" style=\"width: 800px;\"/></center>"
   ]
  },
  {
   "cell_type": "markdown",
   "metadata": {},
   "source": [
    "\n",
    "@Copyright (C): 2024, Golden Trio  \n",
    "@Author: Nicolle Castro  \n",
    " "
   ]
  },
  {
   "cell_type": "markdown",
   "metadata": {},
   "source": [
    "<h1>Importar las librerías</h1>"
   ]
  },
  {
   "cell_type": "code",
   "execution_count": 1,
   "metadata": {},
   "outputs": [],
   "source": [
    "import RPi.GPIO as GPIO\n",
    "import time"
   ]
  },
  {
   "cell_type": "code",
   "execution_count": 2,
   "metadata": {},
   "outputs": [],
   "source": [
    "#convertir formato bgr8 a jpeg \n",
    "import enum\n",
    "import cv2\n",
    "\n",
    "def bgr8_to_jpeg(value, quality=75):\n",
    "    return bytes(cv2.imencode('.jpg', value)[1])"
   ]
  },
  {
   "cell_type": "code",
   "execution_count": 3,
   "metadata": {},
   "outputs": [
    {
     "data": {
      "application/vnd.jupyter.widget-view+json": {
       "model_id": "40059c4eb1b24349b006f905c8925702",
       "version_major": 2,
       "version_minor": 0
      },
      "text/plain": [
       "Image(value=b'', format='jpeg', height='300', width='300')"
      ]
     },
     "metadata": {},
     "output_type": "display_data"
    }
   ],
   "source": [
    "#camara\n",
    "import cv2\n",
    "import traitlets\n",
    "import ipywidgets.widgets as widgets\n",
    "from IPython.display import display\n",
    "import time\n",
    "# threading function library\n",
    "import threading\n",
    "import inspect\n",
    "import ctypes\n",
    "\n",
    "image_widget = widgets.Image(format='jpeg', width=300, height=300)\n",
    "display(image_widget)"
   ]
  },
  {
   "cell_type": "code",
   "execution_count": 4,
   "metadata": {},
   "outputs": [],
   "source": [
    "# pin servo\n",
    "ServoPin = 11  #S2\n",
    "ServoPinB = 9  #S3\n",
    "#pin motores DC\n",
    "IN1 = 20\n",
    "IN2 = 21\n",
    "IN3 = 19\n",
    "IN4 = 26\n",
    "ENA = 16\n",
    "ENB = 13\n",
    "#pin buzzer\n",
    "Buzzer = 8\n",
    "#pines sensores de linea\n",
    "TrackSensorLeftPin1  =  3   #The first tracking infrared sensor pin on the left is connected to  BCM port 3 of Raspberry pi\n",
    "TrackSensorLeftPin2  =  5   #The second tracking infrared sensor pin on the left is connected to  BCM port 5 of Raspberry pi\n",
    "TrackSensorRightPin1 =  4    #The first tracking infrared sensor pin on the right is connected to  BCM port 4 of Raspberry pi\n",
    "TrackSensorRightPin2 =  18   #The second tracking infrared sensor pin on the right is connected to  BCMport 18 of Raspberry pi\n",
    "# GPIO tpo BCM \n",
    "GPIO.setmode(GPIO.BCM)\n",
    "#ignorar mensajes de advertencia\n",
    "GPIO.setwarnings(False)\n",
    "\n"
   ]
  },
  {
   "cell_type": "markdown",
   "metadata": {},
   "source": [
    "<h1>Definicion de funciones</h1>"
   ]
  },
  {
   "cell_type": "code",
   "execution_count": 5,
   "metadata": {},
   "outputs": [],
   "source": [
    "#configuracion de Entradas y Salidas\n",
    "def motor_init():\n",
    "    global pwm_ENA\n",
    "    global pwm_ENB\n",
    "    global delaytime\n",
    "    GPIO.setup(Buzzer,GPIO.OUT,initial=GPIO.HIGH)\n",
    "    GPIO.setup(ENA,GPIO.OUT,initial=GPIO.HIGH)\n",
    "    GPIO.setup(IN1,GPIO.OUT,initial=GPIO.LOW)\n",
    "    GPIO.setup(IN2,GPIO.OUT,initial=GPIO.LOW)\n",
    "    GPIO.setup(ENB,GPIO.OUT,initial=GPIO.HIGH)\n",
    "    GPIO.setup(IN3,GPIO.OUT,initial=GPIO.LOW)\n",
    "    GPIO.setup(IN4,GPIO.OUT,initial=GPIO.LOW)\n",
    "    GPIO.setup(TrackSensorLeftPin1,GPIO.IN)\n",
    "    GPIO.setup(TrackSensorLeftPin2,GPIO.IN)\n",
    "    GPIO.setup(TrackSensorRightPin1,GPIO.IN)\n",
    "    GPIO.setup(TrackSensorRightPin2,GPIO.IN)\n",
    "    GPIO.setup(Buzzer,GPIO.OUT,initial=GPIO.HIGH)\n",
    "    #Set the PWM pin and frequency is 2000hz\n",
    "    pwm_ENA = GPIO.PWM(ENA, 2000)\n",
    "    pwm_ENB = GPIO.PWM(ENB, 2000)\n",
    "    pwm_ENA.start(0)\n",
    "    pwm_ENB.start(0)\n",
    "\n",
    "#avanzar\n",
    "def run(speed):\n",
    "    GPIO.output(IN1, GPIO.HIGH)\n",
    "    GPIO.output(IN2, GPIO.LOW)\n",
    "    GPIO.output(IN3, GPIO.HIGH)\n",
    "    GPIO.output(IN4, GPIO.LOW)\n",
    "    pwm_ENA.ChangeDutyCycle(speed)\n",
    "    pwm_ENB.ChangeDutyCycle(speed)\n",
    "    #time.sleep(delaytime)\n",
    "\n",
    "#retroceder\n",
    "def back(delaytime):\n",
    "    GPIO.output(IN1, GPIO.LOW)\n",
    "    GPIO.output(IN2, GPIO.HIGH)\n",
    "    GPIO.output(IN3, GPIO.LOW)\n",
    "    GPIO.output(IN4, GPIO.HIGH)\n",
    "    pwm_ENA.ChangeDutyCycle(80)\n",
    "    pwm_ENB.ChangeDutyCycle(80)\n",
    "    time.sleep(delaytime)\n",
    "\n",
    "#giro Izq\n",
    "def left(speed):\n",
    "    GPIO.output(IN1, GPIO.LOW)\n",
    "    GPIO.output(IN2, GPIO.HIGH)\n",
    "    GPIO.output(IN3, GPIO.HIGH)\n",
    "    GPIO.output(IN4, GPIO.LOW)\n",
    "    pwm_ENA.ChangeDutyCycle(speed)\n",
    "    pwm_ENB.ChangeDutyCycle(speed)\n",
    "    #time.sleep(delaytime)\n",
    "\n",
    "#giro der\n",
    "def right(delaytime):\n",
    "    GPIO.output(IN1, GPIO.HIGH)\n",
    "    GPIO.output(IN2, GPIO.LOW)\n",
    "    GPIO.output(IN3, GPIO.LOW)\n",
    "    GPIO.output(IN4, GPIO.HIGH)\n",
    "    pwm_ENA.ChangeDutyCycle(delaytime)\n",
    "    pwm_ENB.ChangeDutyCycle(delaytime)\n",
    "\n",
    "#giro sobre eje izq\n",
    "def spin_left(delaytime):\n",
    "    GPIO.output(IN1, GPIO.LOW)\n",
    "    GPIO.output(IN2, GPIO.HIGH)\n",
    "    GPIO.output(IN3, GPIO.HIGH)\n",
    "    GPIO.output(IN4, GPIO.LOW)\n",
    "    pwm_ENA.ChangeDutyCycle(80)\n",
    "    pwm_ENB.ChangeDutyCycle(80)\n",
    "    time.sleep(delaytime)\n",
    "\n",
    "#giro sobre eje der\n",
    "def spin_right(delaytime):\n",
    "    GPIO.output(IN1, GPIO.HIGH)\n",
    "    GPIO.output(IN2, GPIO.LOW)\n",
    "    GPIO.output(IN3, GPIO.LOW)\n",
    "    GPIO.output(IN4, GPIO.HIGH)\n",
    "    pwm_ENA.ChangeDutyCycle(80)\n",
    "    pwm_ENB.ChangeDutyCycle(80)\n",
    "    time.sleep(delaytime)\n",
    "\n",
    "#alto\n",
    "def brake():\n",
    "    GPIO.output(IN1, GPIO.LOW)\n",
    "    GPIO.output(IN2, GPIO.LOW)\n",
    "    GPIO.output(IN3, GPIO.LOW)\n",
    "    GPIO.output(IN4, GPIO.LOW)\n",
    "    \n",
    "#avanzar sigue linea\n",
    "def run2(leftspeed, rightspeed):\n",
    "    GPIO.output(IN1, GPIO.HIGH)\n",
    "    GPIO.output(IN2, GPIO.LOW)\n",
    "    GPIO.output(IN3, GPIO.HIGH)\n",
    "    GPIO.output(IN4, GPIO.LOW)\n",
    "    pwm_ENA.ChangeDutyCycle(leftspeed)\n",
    "    pwm_ENB.ChangeDutyCycle(rightspeed)\n",
    "\n",
    "#retroceder sigue linea\n",
    "def back2(leftspeed, rightspeed):\n",
    "    GPIO.output(IN1, GPIO.LOW)\n",
    "    GPIO.output(IN2, GPIO.HIGH)\n",
    "    GPIO.output(IN3, GPIO.LOW)\n",
    "    GPIO.output(IN4, GPIO.HIGH)\n",
    "    pwm_ENA.ChangeDutyCycle(leftspeed)\n",
    "    pwm_ENB.ChangeDutyCycle(rightspeed)\n",
    "\n",
    "#giro izquierda sigue linea \n",
    "def left2(leftspeed, rightspeed):\n",
    "    GPIO.output(IN1, GPIO.LOW)\n",
    "    GPIO.output(IN2, GPIO.LOW)\n",
    "    GPIO.output(IN3, GPIO.HIGH)\n",
    "    GPIO.output(IN4, GPIO.LOW)\n",
    "    pwm_ENA.ChangeDutyCycle(leftspeed)\n",
    "    pwm_ENB.ChangeDutyCycle(rightspeed)\n",
    "\n",
    "#giro derecha siguelinea\n",
    "def right2(leftspeed, rightspeed):\n",
    "    GPIO.output(IN1, GPIO.HIGH)\n",
    "    GPIO.output(IN2, GPIO.LOW)\n",
    "    GPIO.output(IN3, GPIO.LOW)\n",
    "    GPIO.output(IN4, GPIO.LOW)\n",
    "    pwm_ENA.ChangeDutyCycle(leftspeed)\n",
    "    pwm_ENB.ChangeDutyCycle(rightspeed)\n",
    "\n",
    "#giro  izquierda sobre eje sigue linea\n",
    "def spin_left2(leftspeed, rightspeed):\n",
    "    GPIO.output(IN1, GPIO.LOW)\n",
    "    GPIO.output(IN2, GPIO.HIGH)\n",
    "    GPIO.output(IN3, GPIO.HIGH)\n",
    "    GPIO.output(IN4, GPIO.LOW)\n",
    "    pwm_ENA.ChangeDutyCycle(leftspeed)\n",
    "    pwm_ENB.ChangeDutyCycle(rightspeed)\n",
    "\n",
    "#giro derecha sobre eje sigue liea\n",
    "def spin_right2(leftspeed, rightspeed):\n",
    "    GPIO.output(IN1, GPIO.HIGH)\n",
    "    GPIO.output(IN2, GPIO.LOW)\n",
    "    GPIO.output(IN3, GPIO.LOW)\n",
    "    GPIO.output(IN4, GPIO.HIGH)\n",
    "    pwm_ENA.ChangeDutyCycle(leftspeed)\n",
    "    pwm_ENB.ChangeDutyCycle(rightspeed)"
   ]
  },
  {
   "cell_type": "code",
   "execution_count": 6,
   "metadata": {},
   "outputs": [],
   "source": [
    " #servomotores\n",
    "def init():\n",
    "    GPIO.setup(ServoPin, GPIO.OUT)\n",
    "    GPIO.setup(ServoPinB, GPIO.OUT)\n",
    "    "
   ]
  },
  {
   "cell_type": "code",
   "execution_count": 7,
   "metadata": {},
   "outputs": [],
   "source": [
    "#funcion PWM para contro de servo\n",
    "#When base pulse is 20ms, the high level part of the pulse is controlled from 0 to 180 degrees in 0.5-2.5ms\n",
    "def servo_pulse(myangleA, myangleB):\n",
    "    pulsewidth = myangleA\n",
    "    GPIO.output(ServoPin, GPIO.HIGH)\n",
    "    time.sleep(pulsewidth/1000000.0)\n",
    "    GPIO.output(ServoPin, GPIO.LOW)\n",
    "    time.sleep(20.0/1000-pulsewidth/1000000.0)\n",
    "    \n",
    "    pulsewidthB = myangleB\n",
    "    GPIO.output(ServoPinB, GPIO.HIGH)\n",
    "    time.sleep(pulsewidthB/1000000.0)\n",
    "    GPIO.output(ServoPinB, GPIO.LOW)\n",
    "    time.sleep(20.0/1000-pulsewidthB/1000000.0)"
   ]
  },
  {
   "cell_type": "code",
   "execution_count": 8,
   "metadata": {},
   "outputs": [],
   "source": [
    "#Control servo angle\n",
    "def Servo_control(angle_1, angle_2):\n",
    "    init()\n",
    "    if angle_1 < 500:\n",
    "        angle_1 = 500\n",
    "    elif angle_1 > 2500:\n",
    "        angle_1 = 2500\n",
    "        \n",
    "    if angle_2 < 500:\n",
    "        angle_2 = 500\n",
    "    elif angle_2 > 2500:\n",
    "        angle_2 = 2500\n",
    "    servo_pulse(angle_1, angle_2)"
   ]
  },
  {
   "cell_type": "markdown",
   "metadata": {},
   "source": [
    "##  cierre de thread"
   ]
  },
  {
   "cell_type": "code",
   "execution_count": 9,
   "metadata": {},
   "outputs": [],
   "source": [
    "def _async_raise(tid, exctype):\n",
    "    \"\"\"raises the exception, performs cleanup if needed\"\"\"\n",
    "    tid = ctypes.c_long(tid)\n",
    "    if not inspect.isclass(exctype):\n",
    "        exctype = type(exctype)\n",
    "    res = ctypes.pythonapi.PyThreadState_SetAsyncExc(tid, ctypes.py_object(exctype))\n",
    "    if res == 0:\n",
    "        raise ValueError(\"invalid thread id\")\n",
    "    elif res != 1:\n",
    "        # \"\"\"if it returns a number greater than one, you're in trouble,\n",
    "        # and you should call it again with exc=NULL to revert the effect\"\"\"\n",
    "        ctypes.pythonapi.PyThreadState_SetAsyncExc(tid, None)\n",
    "        \n",
    "def stop_thread(thread):\n",
    "    _async_raise(thread.ident, SystemExit)"
   ]
  },
  {
   "cell_type": "markdown",
   "metadata": {},
   "source": [
    "<h1>Configuracion de la imagen en la camara</h1>"
   ]
  },
  {
   "cell_type": "code",
   "execution_count": 10,
   "metadata": {},
   "outputs": [],
   "source": [
    "image = cv2.VideoCapture(0)\n",
    "image.set(3, 640)\n",
    "image.set(4, 480)\n",
    "image.set(5, 120)   #set frame\n",
    "image.set(cv2.CAP_PROP_FOURCC, cv2.VideoWriter.fourcc('M', 'J', 'P', 'G'))\n",
    "image.set(cv2.CAP_PROP_BRIGHTNESS, 20) #set brihtgness -64 - 64  0.0\n",
    "image.set(cv2.CAP_PROP_CONTRAST, 20)   #set contrast -64 - 64  2.0\n",
    "ret, frame = image.read()\n",
    "image_widget.value = bgr8_to_jpeg(frame)"
   ]
  },
  {
   "cell_type": "markdown",
   "metadata": {},
   "source": [
    "## variable de control"
   ]
  },
  {
   "cell_type": "code",
   "execution_count": 11,
   "metadata": {},
   "outputs": [],
   "source": [
    "global color_x, color_y, color_radius\n",
    "color_x = color_y = color_radius = 0\n",
    "global target_valuex\n",
    "target_valuex = 1500\n",
    "global target_valuey\n",
    "target_valuey = 1500\n",
    "global g_mode\n",
    "g_mode = 0"
   ]
  },
  {
   "cell_type": "markdown",
   "metadata": {},
   "source": [
    "## arreglo para almacener la gama de color HSV en la escala del rojo"
   ]
  },
  {
   "cell_type": "code",
   "execution_count": 12,
   "metadata": {},
   "outputs": [],
   "source": [
    "import numpy as np\n",
    "global color_lower\n",
    "color_lower = np.array([156, 43, 46])\n",
    "global color_upperv\n",
    "color_upper = np.array([180, 255, 255])\n"
   ]
  },
  {
   "cell_type": "markdown",
   "metadata": {},
   "source": [
    "## parametros PID"
   ]
  },
  {
   "cell_type": "code",
   "execution_count": 13,
   "metadata": {},
   "outputs": [],
   "source": [
    "import PID\n",
    "xservo_pid = PID.PositionalPID(0.8, 0.1, 0.3)\n",
    "yservo_pid = PID.PositionalPID(0.4, 0.1, 0.2)"
   ]
  },
  {
   "cell_type": "markdown",
   "metadata": {},
   "source": [
    "##  Procesamiento principal"
   ]
  },
  {
   "cell_type": "code",
   "execution_count": 14,
   "metadata": {},
   "outputs": [],
   "source": [
    "def Color_track():\n",
    "    global color_lower, color_upper, g_mode \n",
    "    global target_valuex, target_valuey\n",
    "    t_start = time.time()\n",
    "    motor_init()\n",
    "    fps = 0\n",
    "    times = 0\n",
    "    while True:\n",
    "        ret, frame = image.read()\n",
    "        frame = cv2.resize(frame, (300, 300))\n",
    "        frame_ = cv2.GaussianBlur(frame,(5,5),0)                    \n",
    "        hsv = cv2.cvtColor(frame,cv2.COLOR_BGR2HSV)\n",
    "        mask = cv2.inRange(hsv,color_lower,color_upper)  \n",
    "        mask = cv2.erode(mask,None,iterations=2)\n",
    "        mask = cv2.dilate(mask,None,iterations=2)\n",
    "        mask = cv2.GaussianBlur(mask,(3,3),0)     \n",
    "        cnts = cv2.findContours(mask.copy(),cv2.RETR_EXTERNAL,cv2.CHAIN_APPROX_SIMPLE)[-2] \n",
    "        #verificar si existe color rojo\n",
    "        if len(cnts) > 0:\n",
    "            cnt = max (cnts, key = cv2.contourArea)\n",
    "            (color_x,color_y),color_radius = cv2.minEnclosingCircle(cnt)\n",
    "            if color_radius > 10:\n",
    "                times =  times +  1\n",
    "                    \n",
    "                    # encerrar en un circulo rojo \n",
    "                cv2.circle(frame,(int(color_x),int(color_y)),int(color_radius),(255,0,255),2)  \n",
    "                xservo_pid.SystemOutput = color_x\n",
    "                xservo_pid.SetStepSignal(150)\n",
    "                xservo_pid.SetInertiaTime(0.01, 0.1)\n",
    "                target_valuex = int(1500+xservo_pid.SystemOutput)\n",
    "                yservo_pid.SystemOutput = color_y\n",
    "                yservo_pid.SetStepSignal(150)\n",
    "                yservo_pid.SetInertiaTime(0.01, 0.1)\n",
    "                target_valuey = int(1500+yservo_pid.SystemOutput)\n",
    "                time.sleep(0.008)\n",
    "                #si se repite mas de 5 veces es que el rojo es fuga de gas\n",
    "                if times == 5 :\n",
    "                    times = 0\n",
    "                    brake()\n",
    "                    cv2.putText(frame, \"Monitor: Fuga detectada Sector 4\"+str(int(mfps)), (0,40), cv2.FONT_HERSHEY_SIMPLEX, 0.4, (0,255,255), 1)\n",
    "                    GPIO.output(Buzzer, GPIO.LOW)\n",
    "                    time.sleep(0.008)\n",
    "                    GPIO.output(Buzzer, GPIO.HIGH)\n",
    "                    time.sleep(0.008)                        \n",
    "        #sino usa el seguidor de linea\n",
    "        else:\n",
    "            TrackSensorLeftValue1  = GPIO.input(TrackSensorLeftPin1)\n",
    "            TrackSensorLeftValue2  = GPIO.input(TrackSensorLeftPin2)\n",
    "            TrackSensorRightValue1 = GPIO.input(TrackSensorRightPin1)\n",
    "            TrackSensorRightValue2 = GPIO.input(TrackSensorRightPin2)\n",
    "        \n",
    "       #4 tracking pins level status\n",
    "        # 0 0 X 0\n",
    "        # 1 0 X 0\n",
    "        # 0 1 X 0\n",
    "        #Turn right in place,speed is 100,delay 80ms\n",
    "        #Handle right acute angle and right right angle\n",
    "            if (TrackSensorLeftValue1 == False or TrackSensorLeftValue2 == False) and  TrackSensorRightValue2 == False:\n",
    "                spin_right2(20, 20)\n",
    "                time.sleep(0.08)\n",
    " \n",
    "        #4 tracking pins level status\n",
    "        # 0 X 0 0       \n",
    "        # 0 X 0 1 \n",
    "        # 0 X 1 0       \n",
    "       #Turn right in place,speed is 100,delay 80ms   \n",
    "       #Handle left acute angle and left right angle \n",
    "            elif TrackSensorLeftValue1 == False and (TrackSensorRightValue1 == False or  TrackSensorRightValue2 == False):\n",
    "                spin_left2(20, 20)\n",
    "                time.sleep(0.08)\n",
    "  \n",
    "        # 0 X X X\n",
    "        #Left_sensor1 detected black line\n",
    "            elif TrackSensorLeftValue1 == False:\n",
    "                spin_left2(20, 20)\n",
    "     \n",
    "        # X X X 0\n",
    "        #Right_sensor2 detected black line\n",
    "            elif TrackSensorRightValue2 == False:\n",
    "                spin_right2(20, 20)\n",
    "   \n",
    "         #4 tracking pins level status\n",
    "        # X 0 1 X\n",
    "            elif TrackSensorLeftValue2 == False and TrackSensorRightValue1 == True:\n",
    "                left2(0,20)\n",
    "   \n",
    "         #4 tracking pins level status\n",
    "        # X 1 0 X  \n",
    "            elif TrackSensorLeftValue2 == True and TrackSensorRightValue1 == False:\n",
    "                right2(20, 0)\n",
    "   \n",
    "        #4 tracking pins level status\n",
    "        # X 0 0 X\n",
    "            elif TrackSensorLeftValue2 == False and TrackSensorRightValue1 == False:\n",
    "                run2(10, 10)\n",
    "        fps = fps + 1\n",
    "        mfps = fps / (time.time() - t_start)        \n",
    "        # mostrar video en tiempo real\n",
    "        image_widget.value = bgr8_to_jpeg(frame)"
   ]
  },
  {
   "cell_type": "markdown",
   "metadata": {},
   "source": [
    "##  Iicio del proceso"
   ]
  },
  {
   "cell_type": "code",
   "execution_count": 15,
   "metadata": {},
   "outputs": [],
   "source": [
    "thread1 = threading.Thread(target=Color_track)\n",
    "thread1.setDaemon(True)\n",
    "thread1.start()\n"
   ]
  },
  {
   "cell_type": "code",
   "execution_count": null,
   "metadata": {},
   "outputs": [],
   "source": []
  }
 ],
 "metadata": {
  "kernelspec": {
   "display_name": "Python 3",
   "language": "python",
   "name": "python3"
  },
  "language_info": {
   "codemirror_mode": {
    "name": "ipython",
    "version": 3
   },
   "file_extension": ".py",
   "mimetype": "text/x-python",
   "name": "python",
   "nbconvert_exporter": "python",
   "pygments_lexer": "ipython3",
   "version": "3.7.3"
  }
 },
 "nbformat": 4,
 "nbformat_minor": 4
}
